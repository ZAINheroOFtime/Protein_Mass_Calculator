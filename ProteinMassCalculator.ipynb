{
 "cells": [
  {
   "cell_type": "code",
   "execution_count": 19,
   "metadata": {},
   "outputs": [
    {
     "data": {
      "text/plain": [
       "113780.32739000056"
      ]
     },
     "execution_count": 19,
     "metadata": {},
     "output_type": "execute_result"
    }
   ],
   "source": [
    "protein_mass = {\n",
    "    'A':71.03711,\n",
    "    'C':103.00919,\n",
    "    'D':115.02694,\n",
    "    'E':129.04259,\n",
    "    'F':147.06841,\n",
    "    'G':57.02146,\n",
    "    'H':137.05891,\n",
    "    'I':113.08406,\n",
    "    'K':128.09496,\n",
    "    'L':113.08406,\n",
    "    'M':131.04049,\n",
    "    'N':114.04293,\n",
    "    'P':97.05276,\n",
    "    'Q':128.05858,\n",
    "    'R':156.10111,\n",
    "    'S':87.03203,\n",
    "    'T':101.04768,\n",
    "    'V':99.06841,\n",
    "    'W':186.07931,\n",
    "    'Y':163.06333\n",
    "}\n",
    "string = 'QMFGHRFMAFSCYMFTFNRMAFLDNCAWRAKTVCWPCQCDCINWHCSHPEHDMKLCKKIYIIQDDAMLKLREPLWPKHRYEAHMCHHVTQIYKSFSTYPKKNTAQFALGLPYDMCTDIWMHSKCSHHSWRTPQLNYTHKECHQVGMEGWQHRLNNPLEDGAFGGYVSYWTVKLCDQPRCTEQRCVMCHHSGEQTKNNTHCKTYEVKIMEHMWNSSLLSSFAHHHMCGIMTTSSRYKNSQFLSFGRVLEKEDASYRMYRVCNESKLMSDNNAICCYSIDVRNNDPYMTTKPTQAVVIMFAVKDQWRVSVKRMNQPIRHVRCCHWIPQGFEPSMLHANERFQILDWLSLFPNYFVQSFRDQNMDMANLAKNVFERETMRQKMQYMTGLNHPPNKHKCPHRAWEYEDYENFPSEQYNFWQLGEMFFPECCKKRTRCIMATPTCRVGLKRHDLIYIMSGKCRAKNEWAWFRIGMLDSLMLDQIRMNWWADWPDWTMYACSVTWLGDRPSSPWLMGNLHQNKMWDPQHWGQCTACMNMELFQNFKFDINWTKECFENLDSWKHTQCGCWFCIAIVNMFPTHRFLHTVIAWGGVRLMQERDQTQHRRRFDNVNEPQDKYCFGYRDQSSVNMTMSHLEKVRANHVMFIVFVPDSSVLIKQPQNQMRADNILHGEQCFSVCEGTDVGIVHNVDRTQKDMLFPGCLEHDVINPLMWCTYCKCIEPLKIVFMWARWAFPNNKQMDMEGTQCLSYWHQATIPSKNFSVQYFLDHKENYFHSSWDYFHMHAMTDVTVFLADQDAGKEFHFVGQDVKKHMADLEYMMIRGGDVPAKISHNFDKGTMNENPWWRRWSPPLPYCNWMHIAHVYWSTVIKKHFEPSYNMFYNCDNGKIKDAIKFWVMNPLVKKGCLMIGEWCMCYKRWLYWENDDGDHTVDPDKLAPVRNFKGLLNWQFSPFRPNMIR'\n",
    "result = 0\n",
    "for aa in string:\n",
    "    for k,v in protein_mass.items():\n",
    "        if aa == k:\n",
    "            result+=v\n",
    "result"
   ]
  }
 ],
 "metadata": {
  "interpreter": {
   "hash": "ca84a58b072d25fcb7a3fc71b36237c532d1768f3d3e7d7980f49d926c1ceec8"
  },
  "kernelspec": {
   "display_name": "Python 3.10.2 ('minimal_ds')",
   "language": "python",
   "name": "python3"
  },
  "language_info": {
   "codemirror_mode": {
    "name": "ipython",
    "version": 3
   },
   "file_extension": ".py",
   "mimetype": "text/x-python",
   "name": "python",
   "nbconvert_exporter": "python",
   "pygments_lexer": "ipython3",
   "version": "3.10.2"
  },
  "orig_nbformat": 4
 },
 "nbformat": 4,
 "nbformat_minor": 2
}
